{
 "cells": [
  {
   "cell_type": "markdown",
   "id": "d0d2b950",
   "metadata": {},
   "source": [
    "# PROBLEM SET 0\n",
    "\n",
    "\n",
    "* ROBERT HEETER\n",
    "* ELEC 576 Introduction to Deep Learning\n",
    "* 13 September 2023\n"
   ]
  },
  {
   "cell_type": "markdown",
   "id": "aaee9573",
   "metadata": {},
   "source": [
    "## TASK 2"
   ]
  },
  {
   "cell_type": "code",
   "execution_count": 1,
   "id": "235a783b",
   "metadata": {},
   "outputs": [
    {
     "name": "stdout",
     "output_type": "stream",
     "text": [
      "a = \n",
      "[[ 0  1  2  3  4  5  6  7]\n",
      " [ 8  9 10 11 12 13 14 15]\n",
      " [16 17 18 19 20 21 22 23]\n",
      " [24 25 26 27 28 29 30 31]]\n",
      "b = \n",
      "[[32 33 34 35 36 37 38 39]\n",
      " [40 41 42 43 44 45 46 47]\n",
      " [48 49 50 51 52 53 54 55]\n",
      " [56 57 58 59 60 61 62 63]]\n",
      "c = \n",
      "[[64 65 66 67 68 69 70 71]\n",
      " [72 73 74 75 76 77 78 79]\n",
      " [80 81 82 83 84 85 86 87]\n",
      " [88 89 90 91 92 93 94 95]]\n",
      "d = \n",
      "[[ 96  97  98  99 100 101 102 103]\n",
      " [104 105 106 107 108 109 110 111]\n",
      " [112 113 114 115 116 117 118 119]\n",
      " [120 121 122 123 124 125 126 127]]\n",
      "v = \n",
      "[  1.    0.1   1.2   0.4   0.2  10.2 100.    4.2]\n",
      "x = \n",
      "[[0 1 2 3 4]\n",
      " [5 6 7 8 9]]\n"
     ]
    }
   ],
   "source": [
    "import numpy as np\n",
    "import scipy\n",
    "\n",
    "a = np.reshape(np.arange(32), (4,8))\n",
    "b = np.reshape(np.arange(32)+32, (4,8))\n",
    "c = np.reshape(np.arange(32)+64, (4,8))\n",
    "d = np.reshape(np.arange(32)+96, (4,8))\n",
    "\n",
    "v = np.array([1,0.1,1.2,0.4,0.2,10.2,100,4.2])\n",
    "x = np.reshape(np.arange(10), (2,5))\n",
    "\n",
    "print('a = \\n' + str(a))\n",
    "print('b = \\n' + str(b))\n",
    "print('c = \\n' + str(c))\n",
    "print('d = \\n' + str(d))\n",
    "\n",
    "print('v = \\n' + str(v))\n",
    "print('x = \\n' + str(x))"
   ]
  },
  {
   "cell_type": "code",
   "execution_count": 2,
   "id": "23968f33",
   "metadata": {},
   "outputs": [
    {
     "name": "stdout",
     "output_type": "stream",
     "text": [
      "2\n",
      "2\n"
     ]
    }
   ],
   "source": [
    "print(np.ndim(a))\n",
    "print(a.ndim)"
   ]
  },
  {
   "cell_type": "code",
   "execution_count": 3,
   "id": "d9f60f2a",
   "metadata": {},
   "outputs": [
    {
     "name": "stdout",
     "output_type": "stream",
     "text": [
      "32\n",
      "32\n"
     ]
    }
   ],
   "source": [
    "print(np.size(a))\n",
    "print(a.size)"
   ]
  },
  {
   "cell_type": "code",
   "execution_count": 4,
   "id": "466018a6",
   "metadata": {},
   "outputs": [
    {
     "name": "stdout",
     "output_type": "stream",
     "text": [
      "(4, 8)\n",
      "(4, 8)\n"
     ]
    }
   ],
   "source": [
    "print(np.shape(a))\n",
    "print(a.shape)"
   ]
  },
  {
   "cell_type": "code",
   "execution_count": 5,
   "id": "e0830de9",
   "metadata": {},
   "outputs": [
    {
     "name": "stdout",
     "output_type": "stream",
     "text": [
      "4\n",
      "8\n"
     ]
    }
   ],
   "source": [
    "n = 1\n",
    "print(a.shape[n-1])\n",
    "n = 2\n",
    "print(a.shape[n-1])"
   ]
  },
  {
   "cell_type": "code",
   "execution_count": 6,
   "id": "ab768238",
   "metadata": {},
   "outputs": [
    {
     "name": "stdout",
     "output_type": "stream",
     "text": [
      "[[1. 2. 3.]\n",
      " [4. 5. 6.]]\n"
     ]
    }
   ],
   "source": [
    "print(np.array([[1., 2., 3.], [4., 5., 6.]]))"
   ]
  },
  {
   "cell_type": "code",
   "execution_count": 7,
   "id": "cd955adf",
   "metadata": {},
   "outputs": [
    {
     "name": "stdout",
     "output_type": "stream",
     "text": [
      "[[  0   1   2   3   4   5   6   7  32  33  34  35  36  37  38  39]\n",
      " [  8   9  10  11  12  13  14  15  40  41  42  43  44  45  46  47]\n",
      " [ 16  17  18  19  20  21  22  23  48  49  50  51  52  53  54  55]\n",
      " [ 24  25  26  27  28  29  30  31  56  57  58  59  60  61  62  63]\n",
      " [ 64  65  66  67  68  69  70  71  96  97  98  99 100 101 102 103]\n",
      " [ 72  73  74  75  76  77  78  79 104 105 106 107 108 109 110 111]\n",
      " [ 80  81  82  83  84  85  86  87 112 113 114 115 116 117 118 119]\n",
      " [ 88  89  90  91  92  93  94  95 120 121 122 123 124 125 126 127]]\n"
     ]
    }
   ],
   "source": [
    "print(np.block([[a, b], [c, d]]))"
   ]
  },
  {
   "cell_type": "code",
   "execution_count": 8,
   "id": "a88f4008",
   "metadata": {},
   "outputs": [
    {
     "name": "stdout",
     "output_type": "stream",
     "text": [
      "[24 25 26 27 28 29 30 31]\n"
     ]
    }
   ],
   "source": [
    "print(a[-1])"
   ]
  },
  {
   "cell_type": "code",
   "execution_count": 9,
   "id": "0d938d9e",
   "metadata": {},
   "outputs": [
    {
     "name": "stdout",
     "output_type": "stream",
     "text": [
      "12\n"
     ]
    }
   ],
   "source": [
    "print(a[1, 4])"
   ]
  },
  {
   "cell_type": "code",
   "execution_count": 10,
   "id": "e42d78ab",
   "metadata": {},
   "outputs": [
    {
     "name": "stdout",
     "output_type": "stream",
     "text": [
      "[ 8  9 10 11 12 13 14 15]\n",
      "[ 8  9 10 11 12 13 14 15]\n"
     ]
    }
   ],
   "source": [
    "print(a[1])\n",
    "print(a[1,:])"
   ]
  },
  {
   "cell_type": "code",
   "execution_count": 11,
   "id": "b8ccbe56",
   "metadata": {},
   "outputs": [
    {
     "name": "stdout",
     "output_type": "stream",
     "text": [
      "[[ 0  1  2  3  4  5  6  7]\n",
      " [ 8  9 10 11 12 13 14 15]\n",
      " [16 17 18 19 20 21 22 23]\n",
      " [24 25 26 27 28 29 30 31]]\n",
      "[[ 0  1  2  3  4  5  6  7]\n",
      " [ 8  9 10 11 12 13 14 15]\n",
      " [16 17 18 19 20 21 22 23]\n",
      " [24 25 26 27 28 29 30 31]]\n",
      "[[ 0  1  2  3  4  5  6  7]\n",
      " [ 8  9 10 11 12 13 14 15]\n",
      " [16 17 18 19 20 21 22 23]\n",
      " [24 25 26 27 28 29 30 31]]\n"
     ]
    }
   ],
   "source": [
    "print(a[0:5])\n",
    "print(a[:5])\n",
    "print(a[0:5, :])"
   ]
  },
  {
   "cell_type": "code",
   "execution_count": 12,
   "id": "67fcf97b",
   "metadata": {},
   "outputs": [
    {
     "name": "stdout",
     "output_type": "stream",
     "text": [
      "[[ 0  1  2  3  4  5  6  7]\n",
      " [ 8  9 10 11 12 13 14 15]\n",
      " [16 17 18 19 20 21 22 23]\n",
      " [24 25 26 27 28 29 30 31]]\n"
     ]
    }
   ],
   "source": [
    "print(a[-5:])"
   ]
  },
  {
   "cell_type": "code",
   "execution_count": 13,
   "id": "431c822b",
   "metadata": {},
   "outputs": [
    {
     "name": "stdout",
     "output_type": "stream",
     "text": [
      "[[ 4  5  6  7]\n",
      " [12 13 14 15]\n",
      " [20 21 22 23]]\n"
     ]
    }
   ],
   "source": [
    "print(a[0:3, 4:9])"
   ]
  },
  {
   "cell_type": "code",
   "execution_count": 14,
   "id": "16b5ce05",
   "metadata": {},
   "outputs": [
    {
     "name": "stdout",
     "output_type": "stream",
     "text": [
      "[[ 0  1  2  3]\n",
      " [ 4  5  6  7]\n",
      " [ 8  9 10 11]\n",
      " [12 13 14 15]\n",
      " [16 17 18 19]\n",
      " [20 21 22 23]\n",
      " [24 25 26 27]\n",
      " [28 29 30 31]]\n",
      "[[ 4  6]\n",
      " [12 14]\n",
      " [16 18]]\n"
     ]
    }
   ],
   "source": [
    "a = a.reshape((8,4))\n",
    "print(a)\n",
    "print(a[np.ix_([1, 3, 4], [0, 2])])"
   ]
  },
  {
   "cell_type": "code",
   "execution_count": 15,
   "id": "275e067c",
   "metadata": {},
   "outputs": [
    {
     "name": "stdout",
     "output_type": "stream",
     "text": [
      "[[ 8  9 10 11]\n",
      " [16 17 18 19]\n",
      " [24 25 26 27]]\n"
     ]
    }
   ],
   "source": [
    "print(a[2:21:2,:])"
   ]
  },
  {
   "cell_type": "code",
   "execution_count": 16,
   "id": "cc2b7203",
   "metadata": {},
   "outputs": [
    {
     "name": "stdout",
     "output_type": "stream",
     "text": [
      "[[ 0  1  2  3]\n",
      " [ 8  9 10 11]\n",
      " [16 17 18 19]\n",
      " [24 25 26 27]]\n"
     ]
    }
   ],
   "source": [
    "print(a[::2, :])"
   ]
  },
  {
   "cell_type": "code",
   "execution_count": 17,
   "id": "92fe885f",
   "metadata": {},
   "outputs": [
    {
     "name": "stdout",
     "output_type": "stream",
     "text": [
      "[[28 29 30 31]\n",
      " [24 25 26 27]\n",
      " [20 21 22 23]\n",
      " [16 17 18 19]\n",
      " [12 13 14 15]\n",
      " [ 8  9 10 11]\n",
      " [ 4  5  6  7]\n",
      " [ 0  1  2  3]]\n"
     ]
    }
   ],
   "source": [
    "print(a[::-1,:])"
   ]
  },
  {
   "cell_type": "code",
   "execution_count": 18,
   "id": "f959f804",
   "metadata": {},
   "outputs": [
    {
     "name": "stdout",
     "output_type": "stream",
     "text": [
      "[[ 0  1  2  3]\n",
      " [ 4  5  6  7]\n",
      " [ 8  9 10 11]\n",
      " [12 13 14 15]\n",
      " [16 17 18 19]\n",
      " [20 21 22 23]\n",
      " [24 25 26 27]\n",
      " [28 29 30 31]\n",
      " [ 0  1  2  3]]\n"
     ]
    }
   ],
   "source": [
    "print(a[np.r_[:len(a),0]])"
   ]
  },
  {
   "cell_type": "code",
   "execution_count": 19,
   "id": "b174a6cb",
   "metadata": {},
   "outputs": [
    {
     "name": "stdout",
     "output_type": "stream",
     "text": [
      "[[ 0  4  8 12 16 20 24 28]\n",
      " [ 1  5  9 13 17 21 25 29]\n",
      " [ 2  6 10 14 18 22 26 30]\n",
      " [ 3  7 11 15 19 23 27 31]]\n",
      "[[ 0  4  8 12 16 20 24 28]\n",
      " [ 1  5  9 13 17 21 25 29]\n",
      " [ 2  6 10 14 18 22 26 30]\n",
      " [ 3  7 11 15 19 23 27 31]]\n"
     ]
    }
   ],
   "source": [
    "print(a.transpose())\n",
    "print(a.T)"
   ]
  },
  {
   "cell_type": "code",
   "execution_count": 20,
   "id": "e95f25ea",
   "metadata": {},
   "outputs": [
    {
     "name": "stdout",
     "output_type": "stream",
     "text": [
      "[[ 0  4  8 12 16 20 24 28]\n",
      " [ 1  5  9 13 17 21 25 29]\n",
      " [ 2  6 10 14 18 22 26 30]\n",
      " [ 3  7 11 15 19 23 27 31]]\n",
      "[[ 0  4  8 12 16 20 24 28]\n",
      " [ 1  5  9 13 17 21 25 29]\n",
      " [ 2  6 10 14 18 22 26 30]\n",
      " [ 3  7 11 15 19 23 27 31]]\n"
     ]
    }
   ],
   "source": [
    "print(a.conj().transpose())\n",
    "print(a.conj().T)"
   ]
  },
  {
   "cell_type": "code",
   "execution_count": 21,
   "id": "563f8333",
   "metadata": {
    "scrolled": true
   },
   "outputs": [
    {
     "name": "stdout",
     "output_type": "stream",
     "text": [
      "[[ 304  310  316  322  328  334  340  346]\n",
      " [1008 1030 1052 1074 1096 1118 1140 1162]\n",
      " [1712 1750 1788 1826 1864 1902 1940 1978]\n",
      " [2416 2470 2524 2578 2632 2686 2740 2794]\n",
      " [3120 3190 3260 3330 3400 3470 3540 3610]\n",
      " [3824 3910 3996 4082 4168 4254 4340 4426]\n",
      " [4528 4630 4732 4834 4936 5038 5140 5242]\n",
      " [5232 5350 5468 5586 5704 5822 5940 6058]]\n"
     ]
    }
   ],
   "source": [
    "print(a @ b)"
   ]
  },
  {
   "cell_type": "code",
   "execution_count": 22,
   "id": "5f05901d",
   "metadata": {},
   "outputs": [
    {
     "name": "stdout",
     "output_type": "stream",
     "text": [
      "[[ 0  1  2  3  4  5  6  7]\n",
      " [ 8  9 10 11 12 13 14 15]\n",
      " [16 17 18 19 20 21 22 23]\n",
      " [24 25 26 27 28 29 30 31]]\n",
      "[[   0   33   68  105  144  185  228  273]\n",
      " [ 320  369  420  473  528  585  644  705]\n",
      " [ 768  833  900  969 1040 1113 1188 1265]\n",
      " [1344 1425 1508 1593 1680 1769 1860 1953]]\n"
     ]
    }
   ],
   "source": [
    "a = a.reshape((4,8))\n",
    "print(a)\n",
    "print(a * b)"
   ]
  },
  {
   "cell_type": "code",
   "execution_count": 23,
   "id": "685b6b96",
   "metadata": {},
   "outputs": [
    {
     "name": "stdout",
     "output_type": "stream",
     "text": [
      "[[0.         0.03030303 0.05882353 0.08571429 0.11111111 0.13513514\n",
      "  0.15789474 0.17948718]\n",
      " [0.2        0.2195122  0.23809524 0.25581395 0.27272727 0.28888889\n",
      "  0.30434783 0.31914894]\n",
      " [0.33333333 0.34693878 0.36       0.37254902 0.38461538 0.39622642\n",
      "  0.40740741 0.41818182]\n",
      " [0.42857143 0.43859649 0.44827586 0.45762712 0.46666667 0.47540984\n",
      "  0.48387097 0.49206349]]\n"
     ]
    }
   ],
   "source": [
    "print(a/b)"
   ]
  },
  {
   "cell_type": "code",
   "execution_count": 24,
   "id": "f1a09a15",
   "metadata": {},
   "outputs": [
    {
     "name": "stdout",
     "output_type": "stream",
     "text": [
      "[[    0     1     8    27    64   125   216   343]\n",
      " [  512   729  1000  1331  1728  2197  2744  3375]\n",
      " [ 4096  4913  5832  6859  8000  9261 10648 12167]\n",
      " [13824 15625 17576 19683 21952 24389 27000 29791]]\n"
     ]
    }
   ],
   "source": [
    "print(a**3)"
   ]
  },
  {
   "cell_type": "code",
   "execution_count": 25,
   "id": "f9fcc8b7",
   "metadata": {},
   "outputs": [
    {
     "name": "stdout",
     "output_type": "stream",
     "text": [
      "[[False  True  True  True  True  True  True  True]\n",
      " [ True  True  True  True  True  True  True  True]\n",
      " [ True  True  True  True  True  True  True  True]\n",
      " [ True  True  True  True  True  True  True  True]]\n"
     ]
    }
   ],
   "source": [
    "print((a > 0.5))"
   ]
  },
  {
   "cell_type": "code",
   "execution_count": 26,
   "id": "7c94d9a4",
   "metadata": {},
   "outputs": [
    {
     "name": "stdout",
     "output_type": "stream",
     "text": [
      "(array([0, 0, 0, 0, 0, 0, 0, 1, 1, 1, 1, 1, 1, 1, 1, 2, 2, 2, 2, 2, 2, 2,\n",
      "       2, 3, 3, 3, 3, 3, 3, 3, 3]), array([1, 2, 3, 4, 5, 6, 7, 0, 1, 2, 3, 4, 5, 6, 7, 0, 1, 2, 3, 4, 5, 6,\n",
      "       7, 0, 1, 2, 3, 4, 5, 6, 7]))\n"
     ]
    }
   ],
   "source": [
    "print(np.nonzero(a > 0.5))"
   ]
  },
  {
   "cell_type": "code",
   "execution_count": 27,
   "id": "28165dd2",
   "metadata": {},
   "outputs": [
    {
     "name": "stdout",
     "output_type": "stream",
     "text": [
      "[[ 0  2  5  6  7]\n",
      " [ 8 10 13 14 15]\n",
      " [16 18 21 22 23]\n",
      " [24 26 29 30 31]]\n"
     ]
    }
   ],
   "source": [
    "print(a[:,np.nonzero(v > 0.5)[0]])"
   ]
  },
  {
   "cell_type": "code",
   "execution_count": 28,
   "id": "e8bbab0d",
   "metadata": {},
   "outputs": [
    {
     "name": "stdout",
     "output_type": "stream",
     "text": [
      "[[ 0  2  5  6  7]\n",
      " [ 8 10 13 14 15]\n",
      " [16 18 21 22 23]\n",
      " [24 26 29 30 31]]\n"
     ]
    }
   ],
   "source": [
    "print(a[:, v.T > 0.5])"
   ]
  },
  {
   "cell_type": "code",
   "execution_count": 29,
   "id": "c7170e22",
   "metadata": {},
   "outputs": [
    {
     "name": "stdout",
     "output_type": "stream",
     "text": [
      "[[-10  -9  -8  -7  -6  -5  -4  -3]\n",
      " [ -2  -1   0   1   2   3   4   5]\n",
      " [  6   7   8   9  10  11  12  13]\n",
      " [ 14  15  16  17  18  19  20  21]]\n",
      "[[ 0  0  0  0  0  0  0  0]\n",
      " [ 0  0  0  1  2  3  4  5]\n",
      " [ 6  7  8  9 10 11 12 13]\n",
      " [14 15 16 17 18 19 20 21]]\n"
     ]
    }
   ],
   "source": [
    "a = a-10\n",
    "print(a)\n",
    "a[a < 0.5]=0\n",
    "print(a)"
   ]
  },
  {
   "cell_type": "code",
   "execution_count": 30,
   "id": "1477b79b",
   "metadata": {},
   "outputs": [
    {
     "name": "stdout",
     "output_type": "stream",
     "text": [
      "[[ 0  0  0  0  0  0  0  0]\n",
      " [ 0  0  0  1  2  3  4  5]\n",
      " [ 6  7  8  9 10 11 12 13]\n",
      " [14 15 16 17 18 19 20 21]]\n"
     ]
    }
   ],
   "source": [
    "print(a * (a > 0.5))"
   ]
  },
  {
   "cell_type": "code",
   "execution_count": 31,
   "id": "08fe0e05",
   "metadata": {},
   "outputs": [
    {
     "name": "stdout",
     "output_type": "stream",
     "text": [
      "[[3 3 3 3 3 3 3 3]\n",
      " [3 3 3 3 3 3 3 3]\n",
      " [3 3 3 3 3 3 3 3]\n",
      " [3 3 3 3 3 3 3 3]]\n"
     ]
    }
   ],
   "source": [
    "a[:] = 3\n",
    "print(a)"
   ]
  },
  {
   "cell_type": "code",
   "execution_count": 32,
   "id": "51e5f79a",
   "metadata": {},
   "outputs": [
    {
     "name": "stdout",
     "output_type": "stream",
     "text": [
      "[[0 1 2 3 4]\n",
      " [5 6 7 8 9]]\n"
     ]
    }
   ],
   "source": [
    "y = x.copy()\n",
    "print(y)"
   ]
  },
  {
   "cell_type": "code",
   "execution_count": 33,
   "id": "0f312c01",
   "metadata": {},
   "outputs": [
    {
     "name": "stdout",
     "output_type": "stream",
     "text": [
      "[5 6 7 8 9]\n"
     ]
    }
   ],
   "source": [
    "y = x[1, :].copy()\n",
    "print(y)"
   ]
  },
  {
   "cell_type": "code",
   "execution_count": 34,
   "id": "b3029ba0",
   "metadata": {},
   "outputs": [
    {
     "name": "stdout",
     "output_type": "stream",
     "text": [
      "[0 1 2 3 4 5 6 7 8 9]\n"
     ]
    }
   ],
   "source": [
    "y = x.flatten()\n",
    "print(y)"
   ]
  },
  {
   "cell_type": "code",
   "execution_count": 35,
   "id": "2364bc36",
   "metadata": {},
   "outputs": [
    {
     "name": "stdout",
     "output_type": "stream",
     "text": [
      "[ 1.  2.  3.  4.  5.  6.  7.  8.  9. 10.]\n",
      "[ 1.  2.  3.  4.  5.  6.  7.  8.  9. 10.]\n",
      "[ 1.  2.  3.  4.  5.  6.  7.  8.  9. 10.]\n"
     ]
    }
   ],
   "source": [
    "print(np.arange(1., 11.))\n",
    "print(np.r_[1.:11.])\n",
    "print(np.r_[1:10:10j])"
   ]
  },
  {
   "cell_type": "code",
   "execution_count": 36,
   "id": "0156b5df",
   "metadata": {},
   "outputs": [
    {
     "name": "stdout",
     "output_type": "stream",
     "text": [
      "[0. 1. 2. 3. 4. 5. 6. 7. 8. 9.]\n",
      "[0. 1. 2. 3. 4. 5. 6. 7. 8. 9.]\n",
      "[0. 1. 2. 3. 4. 5. 6. 7. 8. 9.]\n"
     ]
    }
   ],
   "source": [
    "print(np.arange(10.))\n",
    "print(np.r_[:10.])\n",
    "print(np.r_[:9:10j])"
   ]
  },
  {
   "cell_type": "code",
   "execution_count": 37,
   "id": "691cce87",
   "metadata": {},
   "outputs": [
    {
     "name": "stdout",
     "output_type": "stream",
     "text": [
      "[[ 1.]\n",
      " [ 2.]\n",
      " [ 3.]\n",
      " [ 4.]\n",
      " [ 5.]\n",
      " [ 6.]\n",
      " [ 7.]\n",
      " [ 8.]\n",
      " [ 9.]\n",
      " [10.]]\n"
     ]
    }
   ],
   "source": [
    "print(np.arange(1.,11.)[:, np.newaxis])"
   ]
  },
  {
   "cell_type": "code",
   "execution_count": 38,
   "id": "ddc0c9ca",
   "metadata": {},
   "outputs": [
    {
     "name": "stdout",
     "output_type": "stream",
     "text": [
      "[[0. 0. 0. 0.]\n",
      " [0. 0. 0. 0.]\n",
      " [0. 0. 0. 0.]]\n"
     ]
    }
   ],
   "source": [
    "print(np.zeros((3, 4)))"
   ]
  },
  {
   "cell_type": "code",
   "execution_count": 39,
   "id": "eb6ff6ea",
   "metadata": {},
   "outputs": [
    {
     "name": "stdout",
     "output_type": "stream",
     "text": [
      "[[[0. 0. 0. 0. 0.]\n",
      "  [0. 0. 0. 0. 0.]\n",
      "  [0. 0. 0. 0. 0.]\n",
      "  [0. 0. 0. 0. 0.]]\n",
      "\n",
      " [[0. 0. 0. 0. 0.]\n",
      "  [0. 0. 0. 0. 0.]\n",
      "  [0. 0. 0. 0. 0.]\n",
      "  [0. 0. 0. 0. 0.]]\n",
      "\n",
      " [[0. 0. 0. 0. 0.]\n",
      "  [0. 0. 0. 0. 0.]\n",
      "  [0. 0. 0. 0. 0.]\n",
      "  [0. 0. 0. 0. 0.]]]\n"
     ]
    }
   ],
   "source": [
    "print(np.zeros((3, 4, 5)))"
   ]
  },
  {
   "cell_type": "code",
   "execution_count": 40,
   "id": "dd15e6b6",
   "metadata": {},
   "outputs": [
    {
     "name": "stdout",
     "output_type": "stream",
     "text": [
      "[[1. 1. 1. 1.]\n",
      " [1. 1. 1. 1.]\n",
      " [1. 1. 1. 1.]]\n"
     ]
    }
   ],
   "source": [
    "print(np.ones((3, 4)))"
   ]
  },
  {
   "cell_type": "code",
   "execution_count": 41,
   "id": "68871309",
   "metadata": {},
   "outputs": [
    {
     "name": "stdout",
     "output_type": "stream",
     "text": [
      "[[1. 0. 0.]\n",
      " [0. 1. 0.]\n",
      " [0. 0. 1.]]\n"
     ]
    }
   ],
   "source": [
    "print(np.eye(3))"
   ]
  },
  {
   "cell_type": "code",
   "execution_count": 42,
   "id": "f8136fcf",
   "metadata": {},
   "outputs": [
    {
     "name": "stdout",
     "output_type": "stream",
     "text": [
      "[3 3 3 3]\n"
     ]
    }
   ],
   "source": [
    "print(np.diag(a))"
   ]
  },
  {
   "cell_type": "code",
   "execution_count": 43,
   "id": "f7c3219a",
   "metadata": {},
   "outputs": [
    {
     "name": "stdout",
     "output_type": "stream",
     "text": [
      "[[  1.    0.    0.    0.    0.    0.    0.    0. ]\n",
      " [  0.    0.1   0.    0.    0.    0.    0.    0. ]\n",
      " [  0.    0.    1.2   0.    0.    0.    0.    0. ]\n",
      " [  0.    0.    0.    0.4   0.    0.    0.    0. ]\n",
      " [  0.    0.    0.    0.    0.2   0.    0.    0. ]\n",
      " [  0.    0.    0.    0.    0.   10.2   0.    0. ]\n",
      " [  0.    0.    0.    0.    0.    0.  100.    0. ]\n",
      " [  0.    0.    0.    0.    0.    0.    0.    4.2]]\n"
     ]
    }
   ],
   "source": [
    "print(np.diag(v, 0))"
   ]
  },
  {
   "cell_type": "code",
   "execution_count": 44,
   "id": "b2328df2",
   "metadata": {},
   "outputs": [
    {
     "name": "stdout",
     "output_type": "stream",
     "text": [
      "[[0.77395605 0.43887844 0.85859792 0.69736803]\n",
      " [0.09417735 0.97562235 0.7611397  0.78606431]\n",
      " [0.12811363 0.45038594 0.37079802 0.92676499]]\n"
     ]
    }
   ],
   "source": [
    "from numpy.random import default_rng\n",
    "rng = default_rng(42)\n",
    "print(rng.random((3,4)))"
   ]
  },
  {
   "cell_type": "code",
   "execution_count": 45,
   "id": "418392c1",
   "metadata": {},
   "outputs": [
    {
     "name": "stdout",
     "output_type": "stream",
     "text": [
      "[1.         1.66666667 2.33333333 3.        ]\n"
     ]
    }
   ],
   "source": [
    "print(np.linspace(1,3,4))"
   ]
  },
  {
   "cell_type": "code",
   "execution_count": 46,
   "id": "475c5ce1",
   "metadata": {},
   "outputs": [
    {
     "name": "stdout",
     "output_type": "stream",
     "text": [
      "[[[0. 0. 0. 0. 0. 0.]\n",
      "  [1. 1. 1. 1. 1. 1.]\n",
      "  [2. 2. 2. 2. 2. 2.]\n",
      "  [3. 3. 3. 3. 3. 3.]\n",
      "  [4. 4. 4. 4. 4. 4.]\n",
      "  [5. 5. 5. 5. 5. 5.]\n",
      "  [6. 6. 6. 6. 6. 6.]\n",
      "  [7. 7. 7. 7. 7. 7.]\n",
      "  [8. 8. 8. 8. 8. 8.]]\n",
      "\n",
      " [[0. 1. 2. 3. 4. 5.]\n",
      "  [0. 1. 2. 3. 4. 5.]\n",
      "  [0. 1. 2. 3. 4. 5.]\n",
      "  [0. 1. 2. 3. 4. 5.]\n",
      "  [0. 1. 2. 3. 4. 5.]\n",
      "  [0. 1. 2. 3. 4. 5.]\n",
      "  [0. 1. 2. 3. 4. 5.]\n",
      "  [0. 1. 2. 3. 4. 5.]\n",
      "  [0. 1. 2. 3. 4. 5.]]]\n"
     ]
    }
   ],
   "source": [
    "print(np.mgrid[0:9.,0:6.])"
   ]
  },
  {
   "cell_type": "code",
   "execution_count": 47,
   "id": "b867ff66",
   "metadata": {},
   "outputs": [
    {
     "name": "stdout",
     "output_type": "stream",
     "text": [
      "[array([[0., 1., 2., 3., 4., 5., 6., 7., 8.],\n",
      "       [0., 1., 2., 3., 4., 5., 6., 7., 8.],\n",
      "       [0., 1., 2., 3., 4., 5., 6., 7., 8.],\n",
      "       [0., 1., 2., 3., 4., 5., 6., 7., 8.],\n",
      "       [0., 1., 2., 3., 4., 5., 6., 7., 8.],\n",
      "       [0., 1., 2., 3., 4., 5., 6., 7., 8.]]), array([[0., 0., 0., 0., 0., 0., 0., 0., 0.],\n",
      "       [1., 1., 1., 1., 1., 1., 1., 1., 1.],\n",
      "       [2., 2., 2., 2., 2., 2., 2., 2., 2.],\n",
      "       [3., 3., 3., 3., 3., 3., 3., 3., 3.],\n",
      "       [4., 4., 4., 4., 4., 4., 4., 4., 4.],\n",
      "       [5., 5., 5., 5., 5., 5., 5., 5., 5.]])]\n"
     ]
    }
   ],
   "source": [
    "print(np.meshgrid(np.r_[0:9.],np.r_[0:6.]))"
   ]
  },
  {
   "cell_type": "code",
   "execution_count": 48,
   "id": "925731fe",
   "metadata": {},
   "outputs": [
    {
     "name": "stdout",
     "output_type": "stream",
     "text": [
      "[array([[0.],\n",
      "       [1.],\n",
      "       [2.],\n",
      "       [3.],\n",
      "       [4.],\n",
      "       [5.],\n",
      "       [6.],\n",
      "       [7.],\n",
      "       [8.]]), array([[0., 1., 2., 3., 4., 5.]])]\n"
     ]
    }
   ],
   "source": [
    "print(np.ogrid[0:9.,0:6.])"
   ]
  },
  {
   "cell_type": "code",
   "execution_count": 49,
   "id": "20f5a9e3",
   "metadata": {},
   "outputs": [
    {
     "name": "stdout",
     "output_type": "stream",
     "text": [
      "(array([[0.],\n",
      "       [1.],\n",
      "       [2.],\n",
      "       [3.],\n",
      "       [4.],\n",
      "       [5.],\n",
      "       [6.],\n",
      "       [7.],\n",
      "       [8.]]), array([[0., 1., 2., 3., 4., 5.]]))\n"
     ]
    }
   ],
   "source": [
    "print(np.ix_(np.r_[0:9.],np.r_[0:6.]))"
   ]
  },
  {
   "cell_type": "code",
   "execution_count": 50,
   "id": "c3b6323d",
   "metadata": {},
   "outputs": [
    {
     "name": "stdout",
     "output_type": "stream",
     "text": [
      "[array([[1, 2, 4],\n",
      "       [1, 2, 4],\n",
      "       [1, 2, 4]]), array([[2, 2, 2],\n",
      "       [4, 4, 4],\n",
      "       [5, 5, 5]])]\n"
     ]
    }
   ],
   "source": [
    "print(np.meshgrid([1,2,4],[2,4,5]))"
   ]
  },
  {
   "cell_type": "code",
   "execution_count": 51,
   "id": "6de648ff",
   "metadata": {},
   "outputs": [
    {
     "name": "stdout",
     "output_type": "stream",
     "text": [
      "(array([[1],\n",
      "       [2],\n",
      "       [4]]), array([[2, 4, 5]]))\n"
     ]
    }
   ],
   "source": [
    "print(np.ix_([1,2,4],[2,4,5]))"
   ]
  },
  {
   "cell_type": "code",
   "execution_count": 52,
   "id": "361cd29f",
   "metadata": {},
   "outputs": [
    {
     "name": "stdout",
     "output_type": "stream",
     "text": [
      "[[ 0  1  2  3  4  5  6  7]\n",
      " [ 8  9 10 11 12 13 14 15]\n",
      " [16 17 18 19 20 21 22 23]\n",
      " [24 25 26 27 28 29 30 31]]\n",
      "[[ 0  1  2  3  4  5  6  7  0  1  2  3  4  5  6  7  0  1  2  3  4  5  6  7]\n",
      " [ 8  9 10 11 12 13 14 15  8  9 10 11 12 13 14 15  8  9 10 11 12 13 14 15]\n",
      " [16 17 18 19 20 21 22 23 16 17 18 19 20 21 22 23 16 17 18 19 20 21 22 23]\n",
      " [24 25 26 27 28 29 30 31 24 25 26 27 28 29 30 31 24 25 26 27 28 29 30 31]\n",
      " [ 0  1  2  3  4  5  6  7  0  1  2  3  4  5  6  7  0  1  2  3  4  5  6  7]\n",
      " [ 8  9 10 11 12 13 14 15  8  9 10 11 12 13 14 15  8  9 10 11 12 13 14 15]\n",
      " [16 17 18 19 20 21 22 23 16 17 18 19 20 21 22 23 16 17 18 19 20 21 22 23]\n",
      " [24 25 26 27 28 29 30 31 24 25 26 27 28 29 30 31 24 25 26 27 28 29 30 31]]\n"
     ]
    }
   ],
   "source": [
    "m = 2\n",
    "n = 3\n",
    "a = np.reshape(np.arange(32), (4,8))\n",
    "print(a)\n",
    "print(np.tile(a, (m, n)))"
   ]
  },
  {
   "cell_type": "code",
   "execution_count": 53,
   "id": "dcc8c3ac",
   "metadata": {},
   "outputs": [
    {
     "name": "stdout",
     "output_type": "stream",
     "text": [
      "[[ 0  1  2  3  4  5  6  7 32 33 34 35 36 37 38 39]\n",
      " [ 8  9 10 11 12 13 14 15 40 41 42 43 44 45 46 47]\n",
      " [16 17 18 19 20 21 22 23 48 49 50 51 52 53 54 55]\n",
      " [24 25 26 27 28 29 30 31 56 57 58 59 60 61 62 63]]\n"
     ]
    }
   ],
   "source": [
    "print(np.concatenate((a,b),1))"
   ]
  },
  {
   "cell_type": "code",
   "execution_count": 54,
   "id": "b82aeea3",
   "metadata": {},
   "outputs": [
    {
     "name": "stdout",
     "output_type": "stream",
     "text": [
      "[[ 0  1  2  3  4  5  6  7 32 33 34 35 36 37 38 39]\n",
      " [ 8  9 10 11 12 13 14 15 40 41 42 43 44 45 46 47]\n",
      " [16 17 18 19 20 21 22 23 48 49 50 51 52 53 54 55]\n",
      " [24 25 26 27 28 29 30 31 56 57 58 59 60 61 62 63]]\n",
      "[[ 0  1  2  3  4  5  6  7 32 33 34 35 36 37 38 39]\n",
      " [ 8  9 10 11 12 13 14 15 40 41 42 43 44 45 46 47]\n",
      " [16 17 18 19 20 21 22 23 48 49 50 51 52 53 54 55]\n",
      " [24 25 26 27 28 29 30 31 56 57 58 59 60 61 62 63]]\n",
      "[[ 0  1  2  3  4  5  6  7 32 33 34 35 36 37 38 39]\n",
      " [ 8  9 10 11 12 13 14 15 40 41 42 43 44 45 46 47]\n",
      " [16 17 18 19 20 21 22 23 48 49 50 51 52 53 54 55]\n",
      " [24 25 26 27 28 29 30 31 56 57 58 59 60 61 62 63]]\n"
     ]
    }
   ],
   "source": [
    "print(np.hstack((a,b)))\n",
    "print(np.column_stack((a,b)))\n",
    "print(np.c_[a,b])"
   ]
  },
  {
   "cell_type": "code",
   "execution_count": 55,
   "id": "a07ff4ae",
   "metadata": {},
   "outputs": [
    {
     "name": "stdout",
     "output_type": "stream",
     "text": [
      "[[ 0  1  2  3  4  5  6  7]\n",
      " [ 8  9 10 11 12 13 14 15]\n",
      " [16 17 18 19 20 21 22 23]\n",
      " [24 25 26 27 28 29 30 31]\n",
      " [32 33 34 35 36 37 38 39]\n",
      " [40 41 42 43 44 45 46 47]\n",
      " [48 49 50 51 52 53 54 55]\n",
      " [56 57 58 59 60 61 62 63]]\n",
      "[[ 0  1  2  3  4  5  6  7]\n",
      " [ 8  9 10 11 12 13 14 15]\n",
      " [16 17 18 19 20 21 22 23]\n",
      " [24 25 26 27 28 29 30 31]\n",
      " [32 33 34 35 36 37 38 39]\n",
      " [40 41 42 43 44 45 46 47]\n",
      " [48 49 50 51 52 53 54 55]\n",
      " [56 57 58 59 60 61 62 63]]\n",
      "[[ 0  1  2  3  4  5  6  7]\n",
      " [ 8  9 10 11 12 13 14 15]\n",
      " [16 17 18 19 20 21 22 23]\n",
      " [24 25 26 27 28 29 30 31]\n",
      " [32 33 34 35 36 37 38 39]\n",
      " [40 41 42 43 44 45 46 47]\n",
      " [48 49 50 51 52 53 54 55]\n",
      " [56 57 58 59 60 61 62 63]]\n"
     ]
    }
   ],
   "source": [
    "print(np.concatenate((a,b)))\n",
    "print(np.vstack((a,b)))\n",
    "print(np.r_[a,b])"
   ]
  },
  {
   "cell_type": "code",
   "execution_count": 56,
   "id": "7bdf7056",
   "metadata": {},
   "outputs": [
    {
     "name": "stdout",
     "output_type": "stream",
     "text": [
      "31\n",
      "31\n"
     ]
    }
   ],
   "source": [
    "print(a.max())\n",
    "print(np.nanmax(a))"
   ]
  },
  {
   "cell_type": "code",
   "execution_count": 57,
   "id": "2df6f9f6",
   "metadata": {},
   "outputs": [
    {
     "name": "stdout",
     "output_type": "stream",
     "text": [
      "[24 25 26 27 28 29 30 31]\n"
     ]
    }
   ],
   "source": [
    "print(a.max(0))"
   ]
  },
  {
   "cell_type": "code",
   "execution_count": 58,
   "id": "ebdd8e00",
   "metadata": {},
   "outputs": [
    {
     "name": "stdout",
     "output_type": "stream",
     "text": [
      "[ 7 15 23 31]\n"
     ]
    }
   ],
   "source": [
    "print(a.max(1))"
   ]
  },
  {
   "cell_type": "code",
   "execution_count": 59,
   "id": "6c3c5669",
   "metadata": {},
   "outputs": [
    {
     "name": "stdout",
     "output_type": "stream",
     "text": [
      "[[32 33 34 35 36 37 38 39]\n",
      " [40 41 42 43 44 45 46 47]\n",
      " [48 49 50 51 52 53 54 55]\n",
      " [56 57 58 59 60 61 62 63]]\n"
     ]
    }
   ],
   "source": [
    "print(np.maximum(a, b))"
   ]
  },
  {
   "cell_type": "code",
   "execution_count": 60,
   "id": "b9cd1c5c",
   "metadata": {},
   "outputs": [
    {
     "name": "stdout",
     "output_type": "stream",
     "text": [
      "100.61972967564562\n",
      "100.61972967564562\n"
     ]
    }
   ],
   "source": [
    "print(np.sqrt(v @ v))\n",
    "print(np.linalg.norm(v))"
   ]
  },
  {
   "cell_type": "code",
   "execution_count": 61,
   "id": "372f3b3e",
   "metadata": {},
   "outputs": [
    {
     "name": "stdout",
     "output_type": "stream",
     "text": [
      "[[ 0  1  2  3  4  5  6  7]\n",
      " [ 8  9 10 11 12 13 14 15]\n",
      " [16 17 18 19 20 21 22 23]\n",
      " [24 25 26 27 28 29 30 31]]\n",
      "[[32 33 34 35 36 37 38 39]\n",
      " [40 41 42 43 44 45 46 47]\n",
      " [48 49 50 51 52 53 54 55]\n",
      " [56 57 58 59 60 61 62 63]]\n",
      "[[False  True  True  True  True  True  True  True]\n",
      " [ True  True  True  True  True  True  True  True]\n",
      " [ True  True  True  True  True  True  True  True]\n",
      " [ True  True  True  True  True  True  True  True]]\n"
     ]
    }
   ],
   "source": [
    "print(a)\n",
    "print(b)\n",
    "print(np.logical_and(a,b))"
   ]
  },
  {
   "cell_type": "code",
   "execution_count": 62,
   "id": "4413d6e0",
   "metadata": {},
   "outputs": [
    {
     "name": "stdout",
     "output_type": "stream",
     "text": [
      "[[ True  True  True  True  True  True  True  True]\n",
      " [ True  True  True  True  True  True  True  True]\n",
      " [ True  True  True  True  True  True  True  True]\n",
      " [ True  True  True  True  True  True  True  True]]\n"
     ]
    }
   ],
   "source": [
    "print(np.logical_or(a,b))"
   ]
  },
  {
   "cell_type": "code",
   "execution_count": 63,
   "id": "598e914a",
   "metadata": {},
   "outputs": [
    {
     "name": "stdout",
     "output_type": "stream",
     "text": [
      "[[ 0  1  2  3  4  5  6  7]\n",
      " [ 8  9 10 11 12 13 14 15]\n",
      " [16 17 18 19 20 21 22 23]\n",
      " [24 25 26 27 28 29 30 31]]\n"
     ]
    }
   ],
   "source": [
    "print(a & b)"
   ]
  },
  {
   "cell_type": "code",
   "execution_count": 64,
   "id": "e3528eda",
   "metadata": {},
   "outputs": [
    {
     "name": "stdout",
     "output_type": "stream",
     "text": [
      "[[32 33 34 35 36 37 38 39]\n",
      " [40 41 42 43 44 45 46 47]\n",
      " [48 49 50 51 52 53 54 55]\n",
      " [56 57 58 59 60 61 62 63]]\n"
     ]
    }
   ],
   "source": [
    "print(a | b)"
   ]
  },
  {
   "cell_type": "code",
   "execution_count": 65,
   "id": "ab262df3",
   "metadata": {},
   "outputs": [
    {
     "name": "stdout",
     "output_type": "stream",
     "text": [
      "[[ 0  1  2  3]\n",
      " [ 4  5  6  7]\n",
      " [ 8  9 10 11]\n",
      " [12 13 14 15]]\n",
      "[[ 9.00719925e+14 -4.50359963e+14 -1.80143985e+15  1.35107989e+15]\n",
      " [-2.40191980e+15  2.70215978e+15  1.80143985e+15 -2.10167983e+15]\n",
      " [ 2.10167983e+15 -4.05323966e+15  1.80143985e+15  1.50119988e+14]\n",
      " [-6.00479950e+14  1.80143985e+15 -1.80143985e+15  6.00479950e+14]]\n"
     ]
    }
   ],
   "source": [
    "a = np.reshape(np.arange(16), (4,4))\n",
    "print(a)\n",
    "print(np.linalg.inv(a))"
   ]
  },
  {
   "cell_type": "code",
   "execution_count": 66,
   "id": "20939371",
   "metadata": {},
   "outputs": [
    {
     "name": "stdout",
     "output_type": "stream",
     "text": [
      "[[-2.62500000e-01 -1.37500000e-01 -1.25000000e-02  1.12500000e-01]\n",
      " [-1.00000000e-01 -5.00000000e-02  7.80625564e-18  5.00000000e-02]\n",
      " [ 6.25000000e-02  3.75000000e-02  1.25000000e-02 -1.25000000e-02]\n",
      " [ 2.25000000e-01  1.25000000e-01  2.50000000e-02 -7.50000000e-02]]\n"
     ]
    }
   ],
   "source": [
    "print(np.linalg.pinv(a))"
   ]
  },
  {
   "cell_type": "code",
   "execution_count": 67,
   "id": "9ae4bb35",
   "metadata": {},
   "outputs": [
    {
     "name": "stdout",
     "output_type": "stream",
     "text": [
      "2\n"
     ]
    }
   ],
   "source": [
    "print(np.linalg.matrix_rank(a))"
   ]
  },
  {
   "cell_type": "code",
   "execution_count": 68,
   "id": "bb49e87f",
   "metadata": {},
   "outputs": [
    {
     "name": "stdout",
     "output_type": "stream",
     "text": [
      "[[ 0  1  2  3]\n",
      " [ 4  5  6  7]\n",
      " [ 8  9 10 11]\n",
      " [12 13 14 15]]\n",
      "[[ -1.2  -1.2  -2.8  -4.4  -1.2  -2.8  -4.4  -1.2]\n",
      " [-12.8 -18.8 -15.2 -11.6 -20.8 -17.2 -13.6 -22.8]\n",
      " [  3.2  14.2  10.8   7.4  15.2  11.8   8.4  16.2]\n",
      " [ 12.8   7.8   9.2  10.6   8.8  10.2  11.6   9.8]]\n"
     ]
    }
   ],
   "source": [
    "a = np.reshape(np.arange(16), (4,4))\n",
    "print(a)\n",
    "print(np.linalg.solve(a, b))\n",
    "# print(np.linalg.lstsq(a, b))"
   ]
  },
  {
   "cell_type": "code",
   "execution_count": 69,
   "id": "695185fe",
   "metadata": {},
   "outputs": [],
   "source": [
    "# a.T x.T = b.T"
   ]
  },
  {
   "cell_type": "code",
   "execution_count": 70,
   "id": "80d5d8d4",
   "metadata": {},
   "outputs": [
    {
     "name": "stdout",
     "output_type": "stream",
     "text": [
      "[[-0.09184212 -0.83160389  0.52939495  0.14050262]\n",
      " [-0.31812733 -0.44586433 -0.8105844   0.20725087]\n",
      " [-0.54441254 -0.06012478  0.03298396 -0.8360096 ]\n",
      " [-0.77069775  0.32561478  0.2482055   0.48825611]]\n",
      "[3.51399637e+01 2.27661021e+00 8.80118491e-16 4.41188001e-17]\n",
      "[[-0.42334086 -0.47243254 -0.52152422 -0.57061589]\n",
      " [ 0.72165263  0.27714165 -0.16736932 -0.6118803 ]\n",
      " [ 0.5427818  -0.66899815 -0.29034911  0.41656546]\n",
      " [ 0.0734024  -0.50243554  0.78466387 -0.35563073]]\n",
      "[[-0.42334086  0.72165263  0.5427818   0.0734024 ]\n",
      " [-0.47243254  0.27714165 -0.66899815 -0.50243554]\n",
      " [-0.52152422 -0.16736932 -0.29034911  0.78466387]\n",
      " [-0.57061589 -0.6118803   0.41656546 -0.35563073]]\n"
     ]
    }
   ],
   "source": [
    "U, S, Vh = np.linalg.svd(a)\n",
    "V = Vh.T\n",
    "print(U)\n",
    "print(S)\n",
    "print(Vh)\n",
    "print(V)"
   ]
  },
  {
   "cell_type": "code",
   "execution_count": 71,
   "id": "a1c97fcf",
   "metadata": {},
   "outputs": [
    {
     "name": "stdout",
     "output_type": "stream",
     "text": [
      "[[2.00e-01 1.00e+01 2.40e+01 2.10e+01]\n",
      " [3.00e-01 1.40e+01 9.00e+00 2.00e+00]\n",
      " [2.00e+00 1.00e+00 4.20e+01 4.90e+01]\n",
      " [1.00e+00 2.40e+01 1.00e+00 2.43e+02]]\n",
      "[[ 0.4472136   0.          0.          0.        ]\n",
      " [ 0.67082039  3.68103246  0.          0.        ]\n",
      " [ 4.47213595 -0.54332582  4.65884074  0.        ]\n",
      " [ 2.23606798  6.11241553 -1.21896564 14.11214013]]\n"
     ]
    }
   ],
   "source": [
    "a = np.reshape(np.array([0.2,10,24,21,0.3,14,9,2,2,1,42,49,1,24,1,243]),(4,4))\n",
    "print(a)\n",
    "print(np.linalg.cholesky(a))"
   ]
  },
  {
   "cell_type": "code",
   "execution_count": 72,
   "id": "8249b261",
   "metadata": {},
   "outputs": [
    {
     "name": "stdout",
     "output_type": "stream",
     "text": [
      "[243.79673241  41.27264443  -0.83800518  14.96862834]\n",
      "[[-0.10720169 -0.51921882 -0.99910619 -0.56828719]\n",
      " [-0.01777443 -0.27013897 -0.0056662  -0.81328578]\n",
      " [-0.23565103 -0.80989932  0.0416487  -0.0882487 ]\n",
      " [-0.96574347  0.03872778  0.00448431  0.0884764 ]]\n"
     ]
    }
   ],
   "source": [
    "D,V = np.linalg.eig(a)\n",
    "print(D)\n",
    "print(V)"
   ]
  },
  {
   "cell_type": "code",
   "execution_count": 73,
   "id": "b16e6f2f",
   "metadata": {},
   "outputs": [],
   "source": [
    "# D,V = np.linalg.eig(a, b)"
   ]
  },
  {
   "cell_type": "code",
   "execution_count": 74,
   "id": "8f1f9dbf",
   "metadata": {},
   "outputs": [
    {
     "name": "stdout",
     "output_type": "stream",
     "text": [
      "[243.79673241+0.j  41.27264443+0.j  -0.83800518+0.j  14.96862834+0.j]\n",
      "[[-0.10720169 -0.51921882 -0.99910619 -0.56828719]\n",
      " [-0.01777443 -0.27013897 -0.0056662  -0.81328578]\n",
      " [-0.23565103 -0.80989932  0.0416487  -0.0882487 ]\n",
      " [-0.96574347  0.03872778  0.00448431  0.0884764 ]]\n"
     ]
    },
    {
     "name": "stderr",
     "output_type": "stream",
     "text": [
      "/Users/rch/opt/anaconda3/lib/python3.9/site-packages/scipy/sparse/linalg/_eigen/arpack/arpack.py:1272: RuntimeWarning: k >= N - 1 for N * N square matrix. Attempting to use scipy.linalg.eig instead.\n",
      "  warnings.warn(\"k >= N - 1 for N * N square matrix. \"\n"
     ]
    }
   ],
   "source": [
    "D,V = scipy.sparse.linalg.eigs(a, k=3)\n",
    "print(D)\n",
    "print(V)"
   ]
  },
  {
   "cell_type": "code",
   "execution_count": 75,
   "id": "570669d3",
   "metadata": {},
   "outputs": [
    {
     "name": "stdout",
     "output_type": "stream",
     "text": [
      "[[-0.08830216 -0.3376115   0.83152562  0.43218786]\n",
      " [-0.13245324 -0.46780943  0.23364618 -0.84203322]\n",
      " [-0.88302157  0.4460596   0.12580271 -0.07400955]\n",
      " [-0.44151079 -0.68425408 -0.48800439  0.3141915 ]]\n",
      "[[  -2.26495033  -14.2166473   -40.83974768 -152.67442969]\n",
      " [   0.          -25.90148528    5.7372883  -152.4422804 ]\n",
      " [   0.            0.           26.85513978  -94.49140439]\n",
      " [   0.            0.            0.           80.11394486]]\n"
     ]
    }
   ],
   "source": [
    "Q,R = np.linalg.qr(a)\n",
    "print(Q)\n",
    "print(R)"
   ]
  },
  {
   "cell_type": "code",
   "execution_count": 76,
   "id": "de2f52b4",
   "metadata": {},
   "outputs": [
    {
     "name": "stdout",
     "output_type": "stream",
     "text": [
      "[[0. 0. 1. 0.]\n",
      " [0. 0. 0. 1.]\n",
      " [1. 0. 0. 0.]\n",
      " [0. 1. 0. 0.]]\n",
      "[[1.        0.        0.        0.       ]\n",
      " [0.5       1.        0.        0.       ]\n",
      " [0.1       0.4212766 1.        0.       ]\n",
      " [0.15      0.5893617 0.513267  1.       ]]\n",
      "[[  2.           1.          42.          49.        ]\n",
      " [  0.          23.5        -20.         218.5       ]\n",
      " [  0.           0.          28.22553191 -75.94893617]\n",
      " [  0.           0.           0.         -95.14344942]]\n"
     ]
    }
   ],
   "source": [
    "P,L,U = scipy.linalg.lu(a)\n",
    "print(P)\n",
    "print(L)\n",
    "print(U)"
   ]
  },
  {
   "cell_type": "code",
   "execution_count": 77,
   "id": "7621db18",
   "metadata": {},
   "outputs": [],
   "source": [
    "# cg"
   ]
  },
  {
   "cell_type": "code",
   "execution_count": 78,
   "id": "04a69ca5",
   "metadata": {},
   "outputs": [
    {
     "name": "stdout",
     "output_type": "stream",
     "text": [
      "[[ 28.+0.j          -4.+9.65685425j  -4.+4.j          -4.+1.65685425j\n",
      "   -4.+0.j          -4.-1.65685425j  -4.-4.j          -4.-9.65685425j]\n",
      " [ 92.+0.j          -4.+9.65685425j  -4.+4.j          -4.+1.65685425j\n",
      "   -4.+0.j          -4.-1.65685425j  -4.-4.j          -4.-9.65685425j]\n",
      " [156.+0.j          -4.+9.65685425j  -4.+4.j          -4.+1.65685425j\n",
      "   -4.+0.j          -4.-1.65685425j  -4.-4.j          -4.-9.65685425j]\n",
      " [220.+0.j          -4.+9.65685425j  -4.+4.j          -4.+1.65685425j\n",
      "   -4.+0.j          -4.-1.65685425j  -4.-4.j          -4.-9.65685425j]]\n"
     ]
    }
   ],
   "source": [
    "a = np.reshape(np.arange(32), (4,8))\n",
    "print(np.fft.fft(a))"
   ]
  },
  {
   "cell_type": "code",
   "execution_count": 79,
   "id": "c7952a56",
   "metadata": {},
   "outputs": [
    {
     "name": "stdout",
     "output_type": "stream",
     "text": [
      "[[ 3.5+0.j         -0.5-1.20710678j -0.5-0.5j        -0.5-0.20710678j\n",
      "  -0.5+0.j         -0.5+0.20710678j -0.5+0.5j        -0.5+1.20710678j]\n",
      " [11.5+0.j         -0.5-1.20710678j -0.5-0.5j        -0.5-0.20710678j\n",
      "  -0.5+0.j         -0.5+0.20710678j -0.5+0.5j        -0.5+1.20710678j]\n",
      " [19.5+0.j         -0.5-1.20710678j -0.5-0.5j        -0.5-0.20710678j\n",
      "  -0.5+0.j         -0.5+0.20710678j -0.5+0.5j        -0.5+1.20710678j]\n",
      " [27.5+0.j         -0.5-1.20710678j -0.5-0.5j        -0.5-0.20710678j\n",
      "  -0.5+0.j         -0.5+0.20710678j -0.5+0.5j        -0.5+1.20710678j]]\n"
     ]
    }
   ],
   "source": [
    "print(np.fft.ifft(a))"
   ]
  },
  {
   "cell_type": "code",
   "execution_count": 80,
   "id": "64db9c34",
   "metadata": {},
   "outputs": [
    {
     "name": "stdout",
     "output_type": "stream",
     "text": [
      "[[2.00e-01 1.00e+01 2.10e+01 2.40e+01]\n",
      " [3.00e-01 2.00e+00 9.00e+00 1.40e+01]\n",
      " [1.00e+00 2.00e+00 4.20e+01 4.90e+01]\n",
      " [1.00e+00 1.00e+00 2.40e+01 2.43e+02]]\n",
      "[[2.00e-01 1.00e+00 1.00e+00 2.00e+00]\n",
      " [3.00e-01 1.00e+01 9.00e+00 2.10e+01]\n",
      " [1.00e+00 1.40e+01 2.40e+01 4.90e+01]\n",
      " [2.00e+00 2.40e+01 4.20e+01 2.43e+02]]\n"
     ]
    }
   ],
   "source": [
    "a = np.reshape(np.array([0.2,10,24,21,0.3,14,9,2,2,1,42,49,1,24,1,243]),(4,4))\n",
    "print(np.sort(a))\n",
    "a.sort(axis=0)\n",
    "print(a)"
   ]
  },
  {
   "cell_type": "code",
   "execution_count": 81,
   "id": "69f32f25",
   "metadata": {
    "scrolled": true
   },
   "outputs": [
    {
     "name": "stdout",
     "output_type": "stream",
     "text": [
      "[[2.00e-01 1.00e+01 2.10e+01 2.40e+01]\n",
      " [3.00e-01 2.00e+00 9.00e+00 1.40e+01]\n",
      " [1.00e+00 2.00e+00 4.20e+01 4.90e+01]\n",
      " [1.00e+00 1.00e+00 2.40e+01 2.43e+02]]\n",
      "[[2.00e-01 1.00e+01 2.10e+01 2.40e+01]\n",
      " [3.00e-01 2.00e+00 9.00e+00 1.40e+01]\n",
      " [1.00e+00 2.00e+00 4.20e+01 4.90e+01]\n",
      " [1.00e+00 1.00e+00 2.40e+01 2.43e+02]]\n"
     ]
    }
   ],
   "source": [
    "a = np.reshape(np.array([0.2,10,24,21,0.3,14,9,2,2,1,42,49,1,24,1,243]),(4,4))\n",
    "print(np.sort(a, axis=1))\n",
    "a.sort(axis=1)\n",
    "print(a)"
   ]
  },
  {
   "cell_type": "code",
   "execution_count": 82,
   "id": "30dbaab8",
   "metadata": {},
   "outputs": [
    {
     "name": "stdout",
     "output_type": "stream",
     "text": [
      "[0 1 2 3]\n"
     ]
    }
   ],
   "source": [
    "I = np.argsort(a[:, 0]); b = a[I,:]\n",
    "print(I)"
   ]
  },
  {
   "cell_type": "code",
   "execution_count": 83,
   "id": "88288d50",
   "metadata": {},
   "outputs": [
    {
     "name": "stdout",
     "output_type": "stream",
     "text": [
      "(array([ 1.20000000e-01,  8.00000000e-02,  4.00000000e-02,  1.18886171e-16,\n",
      "       -4.00000000e-02]), array([], dtype=float64), 2, array([6.99085940e+01, 3.57609824e+00, 5.72246903e-15, 2.09124342e-16,\n",
      "       6.08024818e-17]))\n"
     ]
    },
    {
     "name": "stderr",
     "output_type": "stream",
     "text": [
      "/var/folders/xz/pb7f4dg10fj3tpm9jkly5h600000gn/T/ipykernel_11490/122479090.py:4: FutureWarning: `rcond` parameter will change to the default of machine precision times ``max(M, N)`` where M and N are the input matrix dimensions.\n",
      "To use the future default and silence this warning we advise to pass `rcond=None`, to keep using the old, explicitly pass `rcond=-1`.\n",
      "  x = np.linalg.lstsq(Z, y)\n"
     ]
    }
   ],
   "source": [
    "y = np.arange(5)\n",
    "Z = np.reshape(np.arange(25), (5,5))\n",
    "\n",
    "x = np.linalg.lstsq(Z, y)\n",
    "print(x)"
   ]
  },
  {
   "cell_type": "code",
   "execution_count": 84,
   "id": "bd7fe9db",
   "metadata": {},
   "outputs": [],
   "source": [
    "# scipy.signal.resample(x, np.ceil(len(x)/q))"
   ]
  },
  {
   "cell_type": "code",
   "execution_count": 85,
   "id": "035729bd",
   "metadata": {},
   "outputs": [
    {
     "name": "stdout",
     "output_type": "stream",
     "text": [
      "[ 0  1  2  3  4  5  6  7  8  9 10 11 12 13 14 15 16 17 18 19 20 21 22 23\n",
      " 24]\n"
     ]
    }
   ],
   "source": [
    "a = np.reshape(np.arange(25), (5,5))\n",
    "print(np.unique(a))"
   ]
  },
  {
   "cell_type": "code",
   "execution_count": 86,
   "id": "f6062c3e",
   "metadata": {
    "scrolled": true
   },
   "outputs": [
    {
     "name": "stdout",
     "output_type": "stream",
     "text": [
      "[[ 0  1  2  3  4]\n",
      " [ 5  6  7  8  9]\n",
      " [10 11 12 13 14]\n",
      " [15 16 17 18 19]\n",
      " [20 21 22 23 24]]\n"
     ]
    }
   ],
   "source": [
    "print(a.squeeze())"
   ]
  },
  {
   "cell_type": "markdown",
   "id": "25ff87aa",
   "metadata": {},
   "source": [
    "## TASK 3"
   ]
  },
  {
   "cell_type": "code",
   "execution_count": 87,
   "id": "456e9c9c",
   "metadata": {},
   "outputs": [
    {
     "data": {
      "image/png": "[encoded data removed]",
      "text/plain": [
       "<Figure size 640x480 with 1 Axes>"
      ]
     },
     "metadata": {},
     "output_type": "display_data"
    }
   ],
   "source": [
    "import matplotlib.pyplot as plt\n",
    "plt.plot([1,2,3,4], [1,2,7,14])\n",
    "plt.axis([0, 6, 0, 20])\n",
    "plt.show()\n"
   ]
  },
  {
   "cell_type": "markdown",
   "id": "6ad42e32",
   "metadata": {},
   "source": [
    "## TASK 4"
   ]
  },
  {
   "cell_type": "code",
   "execution_count": 88,
   "id": "fd9b65c5",
   "metadata": {},
   "outputs": [
    {
     "data": {
      "image/png": "[encoded data removed]",
      "text/plain": [
       "<Figure size 640x480 with 1 Axes>"
      ]
     },
     "metadata": {},
     "output_type": "display_data"
    }
   ],
   "source": [
    "import numpy as np\n",
    "import matplotlib.pyplot as plt\n",
    "\n",
    "# make sinusoid signals with noise\n",
    "dt = 0.01\n",
    "t = np.arange(0, 100, dt)\n",
    "nse1 = np.random.randn(len(t)) # white noise\n",
    "nse2 = np.random.randn(len(t))\n",
    "s1 = 15*np.sin(1 * np.pi * 20 * t) + nse1\n",
    "s2 = 10*np.sin(0.3 * np.pi * 20 * t) + nse2\n",
    "\n",
    "# plot signals with noise\n",
    "plt.plot(t, s1, t, s2)\n",
    "plt.xlim(0, 2)\n",
    "plt.xlabel('time')\n",
    "plt.ylabel('amplitude')\n",
    "plt.legend(['s1', 's2'])\n",
    "plt.grid(True)\n",
    "plt.show()\n"
   ]
  },
  {
   "cell_type": "code",
   "execution_count": null,
   "id": "123ed7fc",
   "metadata": {},
   "outputs": [],
   "source": []
  }
 ],
 "metadata": {
  "kernelspec": {
   "display_name": "Python 3 (ipykernel)",
   "language": "python",
   "name": "python3"
  },
  "language_info": {
   "codemirror_mode": {
    "name": "ipython",
    "version": 3
   },
   "file_extension": ".py",
   "mimetype": "text/x-python",
   "name": "python",
   "nbconvert_exporter": "python",
   "pygments_lexer": "ipython3",
   "version": "3.9.7"
  }
 },
 "nbformat": 4,
 "nbformat_minor": 5
}
