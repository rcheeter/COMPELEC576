{
 "cells": [
  {
   "cell_type": "code",
   "execution_count": 1,
   "id": "8c024e54",
   "metadata": {},
   "outputs": [
    {
     "name": "stderr",
     "output_type": "stream",
     "text": [
      "/Users/rcheeter/anaconda3/lib/python3.10/site-packages/tqdm/auto.py:21: TqdmWarning: IProgress not found. Please update jupyter and ipywidgets. See https://ipywidgets.readthedocs.io/en/stable/user_install.html\n",
      "  from .autonotebook import tqdm as notebook_tqdm\n",
      "/Users/rcheeter/anaconda3/lib/python3.10/site-packages/torch_geometric/typing.py:18: UserWarning: An issue occurred while importing 'pyg-lib'. Disabling its usage. Stacktrace: dlopen(/Users/rcheeter/anaconda3/lib/python3.10/site-packages/libpyg.so, 6): Symbol not found: __ZN2at27getStepCallbacksUnlessEmptyENS_11RecordScopeE\n",
      "  Referenced from: /Users/rcheeter/anaconda3/lib/python3.10/site-packages/libpyg.so\n",
      "  Expected in: /Users/rcheeter/anaconda3/lib/python3.10/site-packages/torch/lib/libtorch_cpu.dylib\n",
      " in /Users/rcheeter/anaconda3/lib/python3.10/site-packages/libpyg.so\n",
      "  warnings.warn(f\"An issue occurred while importing 'pyg-lib'. \"\n"
     ]
    }
   ],
   "source": [
    "import os\n",
    "import numpy as np\n",
    "import pandas as pd\n",
    "import scipy as sp\n",
    "import torch\n",
    "import torch.nn as nn\n",
    "import torch_geometric as pyg\n",
    "import matplotlib.pyplot as plt\n",
    "\n",
    "from sklearn.metrics import confusion_matrix\n",
    "from sklearn.metrics import f1_score\n",
    "\n",
    "from utils import *\n",
    "\n",
    "from dataset import *\n",
    "\n",
    "np.set_printoptions(threshold=np.inf)\n",
    "torch.set_printoptions(profile=\"full\")\n"
   ]
  },
  {
   "cell_type": "code",
   "execution_count": null,
   "id": "4f27fc92",
   "metadata": {},
   "outputs": [],
   "source": [
    "import random\n",
    "\n",
    "data_dir = \"data/processed\"\n",
    "working_dir = os.getcwd()\n",
    "\n",
    "data_path = \"data/processed/data_paths.csv\"\n",
    "\n",
    "# ignore split\n",
    "graph_path_list = make_dataset(data_path, data_dir, working_dir, data_type='data', radius_ncov=10, split=[0.8, 0.0, 0.2], num_process=4)\n",
    "\n",
    "random.shuffle(graph_path_list)\n",
    "\n",
    "train_graph_path_list = graph_path_list[:40]\n",
    "test_graph_path_list = graph_path_list[40:]\n",
    "\n",
    "train_list = []\n",
    "for train_path in train_graph_path_list:\n",
    "    train_list.append(torch.load(train_path))\n",
    "\n",
    "test_list = []\n",
    "for test_path in test_graph_path_list:\n",
    "    test_list.append(torch.load(train_path))\n",
    "\n",
    "data_example = train_list[0]\n"
   ]
  },
  {
   "cell_type": "code",
   "execution_count": null,
   "metadata": {},
   "outputs": [],
   "source": [
    "train_loader = pyg.loader.DataLoader(train_list, batch_size=2, shuffle=False)\n",
    "test_loader = pyg.loader.DataLoader(test_list, batch_size=2, shuffle=False)"
   ]
  },
  {
   "cell_type": "markdown",
   "id": "5fa1f9ee",
   "metadata": {},
   "source": [
    "LOOK AT\n",
    "\n",
    "https://github.com/pyg-team/pytorch_geometric/issues/2677\n",
    "\n",
    "https://github.com/pyg-team/pytorch_geometric/discussions/7877\n",
    "\n",
    "https://github.com/pyg-team/pytorch_geometric/blob/master/examples/ppi.py\n",
    "\n",
    "https://github.com/pyg-team/pytorch_geometric/discussions/7877"
   ]
  },
  {
   "cell_type": "code",
   "execution_count": 2,
   "id": "af450606",
   "metadata": {},
   "outputs": [
    {
     "name": "stdout",
     "output_type": "stream",
     "text": [
      "Data(x=[40999, 39], edge_index=[2, 5768884], edge_attr=[5768884, 2], y=[40999], pos=[40999, 3], train_mask=[40999], valid_mask=[40999], test_mask=[40999], num_nodes=40999, num_node_features=39, num_edges=5768884, num_edge_features=2, num_dimensions=3, split=[3], list_mask_type=[20], list_num_nodes=[20], list_graph_path=[20], list_protein_path=[20], list_labels_path=[20])\n",
      "40\n",
      "Data(x=[1025, 39], edge_index=[2, 3698], edge_attr=[3698, 2], y=[1025], pos=[1025, 3], train_mask=[1025], valid_mask=[1025], test_mask=[1025], num_nodes=1025, num_node_features=39, num_edges=5768884, num_edge_features=2, num_dimensions=3, split=[3], list_mask_type=[20], list_num_nodes=[20], list_graph_path=[20], list_protein_path=[20], list_labels_path=[20])\n",
      "40\n",
      "Data(x=[1025, 39], edge_index=[2, 3544], edge_attr=[3544, 2], y=[1025], pos=[1025, 3], train_mask=[1025], valid_mask=[1025], test_mask=[1025], num_nodes=1025, num_node_features=39, num_edges=5768884, num_edge_features=2, num_dimensions=3, split=[3], list_mask_type=[20], list_num_nodes=[20], list_graph_path=[20], list_protein_path=[20], list_labels_path=[20])\n"
     ]
    }
   ],
   "source": [
    "# data_path = \"/Users/rcheeter/GitHub/druggabilityclassifer/dc_data_processed/dc_graph_TYPE-data_LEN-20_SPLIT-80-00-20.pyg\"\n",
    "# dataset = torch.load(data_path)\n",
    "\n",
    "# print(dataset)\n",
    "\n",
    "# # look into better ways to circumvent combining the proteing graphs into one large graph object --> improved neighbor loader?\n",
    "\n",
    "# # train_sampler = pyg.loader.ImbalancedSampler(dataset.y, input_nodes=dataset.train_mask)\n",
    "# # # train_loader = pyg.loader.NeighborLoader(dataset, input_nodes=dataset.train_mask, batch_size=1000, num_neighbors=[-1, -1], sampler=train_sampler)\n",
    "# # train_loader = pyg.loader.RandomNodeLoader(dataset, num_parts=int(dataset.num_nodes/1000), shuffle=True)\n",
    "\n",
    "# # test_loader = pyg.loader.RandomNodeLoader(dataset, num_parts=int(dataset.num_nodes/1000), shuffle=True)\n",
    "\n",
    "# train_loader = pyg.loader.DataLoader(train_dataset, batch_size=1, shuffle=True)\n",
    "\n",
    "# print(len(train_loader))\n",
    "# for data in train_loader:\n",
    "#     print(data)\n",
    "#     break\n",
    "\n",
    "# print(len(test_loader))\n",
    "# for data in test_loader:\n",
    "#     print(data)\n",
    "#     break\n"
   ]
  },
  {
   "cell_type": "code",
   "execution_count": 3,
   "id": "1329934f",
   "metadata": {},
   "outputs": [
    {
     "name": "stdout",
     "output_type": "stream",
     "text": [
      "GCN(\n",
      "  (conv1): GATv2Conv(39, 256, heads=1)\n",
      "  (conv2): GATv2Conv(256, 256, heads=1)\n",
      "  (conv3): GATv2Conv(256, 2, heads=1)\n",
      ")\n"
     ]
    }
   ],
   "source": [
    "class GCN(nn.Module):\n",
    "    \n",
    "    def __init__(self, hidden_channels, edge_dim):\n",
    "        super().__init__()\n",
    "        torch.manual_seed(1234567)\n",
    "        self.conv1 = pyg.nn.GATv2Conv(data_example.num_node_features, hidden_channels, edge_dim=edge_dim)\n",
    "        self.conv2 = pyg.nn.GATv2Conv(hidden_channels, hidden_channels, edge_dim=edge_dim)\n",
    "        self.conv3 = pyg.nn.GATv2Conv(hidden_channels, 2, edge_dim=edge_dim)\n",
    "\n",
    "    def forward(self, x, edge_index, edge_attr):\n",
    "        x = self.conv1(x, edge_index, edge_attr)\n",
    "        x = x.relu()\n",
    "        x = nn.functional.dropout(x, p=0.2, training=True)\n",
    "        x = self.conv2(x, edge_index, edge_attr)\n",
    "        x = x.relu()\n",
    "        x = nn.functional.dropout(x, p=0.2, training=True)\n",
    "        x = self.conv3(x, edge_index, edge_attr)\n",
    "        \n",
    "        return x\n",
    "\n",
    "model = GCN(hidden_channels=256, edge_dim=data_example.num_edge_features)\n",
    "print(model)\n"
   ]
  },
  {
   "cell_type": "code",
   "execution_count": 14,
   "id": "631c4c58",
   "metadata": {},
   "outputs": [
    {
     "name": "stdout",
     "output_type": "stream",
     "text": [
      "epoch = 000, epoch_loss = 0.6849\n",
      "epoch = 001, epoch_loss = 0.6696\n",
      "epoch = 002, epoch_loss = 0.6692\n",
      "epoch = 003, epoch_loss = 0.6680\n",
      "epoch = 004, epoch_loss = 0.6667\n",
      "epoch = 005, epoch_loss = 0.6658\n",
      "epoch = 006, epoch_loss = 0.6655\n",
      "epoch = 007, epoch_loss = 0.6664\n",
      "epoch = 008, epoch_loss = 0.6645\n"
     ]
    },
    {
     "ename": "KeyboardInterrupt",
     "evalue": "",
     "output_type": "error",
     "traceback": [
      "\u001b[0;31m---------------------------------------------------------------------------\u001b[0m",
      "\u001b[0;31mKeyboardInterrupt\u001b[0m                         Traceback (most recent call last)",
      "Cell \u001b[0;32mIn[14], line 18\u001b[0m\n\u001b[1;32m     16\u001b[0m loss \u001b[39m=\u001b[39m criterion(pred[data\u001b[39m.\u001b[39mtrain_mask], data\u001b[39m.\u001b[39my[data\u001b[39m.\u001b[39mtrain_mask])\n\u001b[1;32m     17\u001b[0m optimizer\u001b[39m.\u001b[39mzero_grad()\n\u001b[0;32m---> 18\u001b[0m loss\u001b[39m.\u001b[39;49mbackward()\n\u001b[1;32m     19\u001b[0m optimizer\u001b[39m.\u001b[39mstep()\n\u001b[1;32m     21\u001b[0m batch_loss\u001b[39m.\u001b[39mupdate(loss\u001b[39m.\u001b[39mitem(), \u001b[39mint\u001b[39m(\u001b[39msum\u001b[39m(data\u001b[39m.\u001b[39mtrain_mask)))\n",
      "File \u001b[0;32m~/anaconda3/lib/python3.10/site-packages/torch/_tensor.py:396\u001b[0m, in \u001b[0;36mTensor.backward\u001b[0;34m(self, gradient, retain_graph, create_graph, inputs)\u001b[0m\n\u001b[1;32m    387\u001b[0m \u001b[39mif\u001b[39;00m has_torch_function_unary(\u001b[39mself\u001b[39m):\n\u001b[1;32m    388\u001b[0m     \u001b[39mreturn\u001b[39;00m handle_torch_function(\n\u001b[1;32m    389\u001b[0m         Tensor\u001b[39m.\u001b[39mbackward,\n\u001b[1;32m    390\u001b[0m         (\u001b[39mself\u001b[39m,),\n\u001b[0;32m   (...)\u001b[0m\n\u001b[1;32m    394\u001b[0m         create_graph\u001b[39m=\u001b[39mcreate_graph,\n\u001b[1;32m    395\u001b[0m         inputs\u001b[39m=\u001b[39minputs)\n\u001b[0;32m--> 396\u001b[0m torch\u001b[39m.\u001b[39;49mautograd\u001b[39m.\u001b[39;49mbackward(\u001b[39mself\u001b[39;49m, gradient, retain_graph, create_graph, inputs\u001b[39m=\u001b[39;49minputs)\n",
      "File \u001b[0;32m~/anaconda3/lib/python3.10/site-packages/torch/autograd/__init__.py:173\u001b[0m, in \u001b[0;36mbackward\u001b[0;34m(tensors, grad_tensors, retain_graph, create_graph, grad_variables, inputs)\u001b[0m\n\u001b[1;32m    168\u001b[0m     retain_graph \u001b[39m=\u001b[39m create_graph\n\u001b[1;32m    170\u001b[0m \u001b[39m# The reason we repeat same the comment below is that\u001b[39;00m\n\u001b[1;32m    171\u001b[0m \u001b[39m# some Python versions print out the first line of a multi-line function\u001b[39;00m\n\u001b[1;32m    172\u001b[0m \u001b[39m# calls in the traceback and some print out the last line\u001b[39;00m\n\u001b[0;32m--> 173\u001b[0m Variable\u001b[39m.\u001b[39;49m_execution_engine\u001b[39m.\u001b[39;49mrun_backward(  \u001b[39m# Calls into the C++ engine to run the backward pass\u001b[39;49;00m\n\u001b[1;32m    174\u001b[0m     tensors, grad_tensors_, retain_graph, create_graph, inputs,\n\u001b[1;32m    175\u001b[0m     allow_unreachable\u001b[39m=\u001b[39;49m\u001b[39mTrue\u001b[39;49;00m, accumulate_grad\u001b[39m=\u001b[39;49m\u001b[39mTrue\u001b[39;49;00m)\n",
      "\u001b[0;31mKeyboardInterrupt\u001b[0m: "
     ]
    }
   ],
   "source": [
    "model = GCN(hidden_channels=256, edge_dim=data_example.num_edge_features)\n",
    "optimizer = torch.optim.Adam(model.parameters(), lr=5e-5) # add weight_decay?\n",
    "\n",
    "class_weight = torch.tensor([1.0, 9.0])\n",
    "criterion = torch.nn.CrossEntropyLoss(weight=class_weight)\n",
    "\n",
    "# TRAINING\n",
    "epochs = 100\n",
    "batch_loss = AverageMeter()\n",
    "list_epoch_loss = []\n",
    "\n",
    "model.train()\n",
    "for epoch in range(epochs):\n",
    "      for data in train_loader:\n",
    "\n",
    "            pred = model(data.x, data.edge_index, data.edge_attr)\n",
    "            loss = criterion(pred[data.train_mask], data.y[data.train_mask])\n",
    "            optimizer.zero_grad()\n",
    "            loss.backward()\n",
    "            optimizer.step()\n",
    "\n",
    "            batch_loss.update(loss.item(), int(sum(data.train_mask)))\n",
    "            # print(f'- step_loss = {loss.item():.4f}')\n",
    "      \n",
    "      epoch_loss = batch_loss.get_average()\n",
    "      list_epoch_loss.append(epoch_loss)\n",
    "      epoch_rmse = np.sqrt(epoch_loss)\n",
    "      batch_loss.reset()\n",
    "\n",
    "      # add assessment of validation set performance\n",
    "\n",
    "      print(f'epoch = {epoch:03d}, epoch_loss = {epoch_loss:.4f}')\n",
    "\n",
    "# def train(train_loader):\n",
    "#       model.train()\n",
    "#       for data in train_loader:\n",
    "#             optimizer.zero_grad()  # clear gradients\n",
    "#             pred = model(data.x, data.edge_index, data.edge_attr)  # perform a single forward pass\n",
    "#             loss = criterion(pred[data.train_mask], data.y[data.train_mask])  # compute the loss solely based on the training nodes\n",
    "#             loss.backward()  # derive gradients\n",
    "#             optimizer.step()  # update parameters based on gradients  \n",
    "#       return loss\n",
    "\n",
    "# for epoch in range(20):\n",
    "#     loss = train(train_loader)\n",
    "#     print(f'Epoch: {epoch:03d}, Loss: {loss:.4f}')\n",
    "\n",
    "\n",
    "# TESTING\n",
    "def test(test_loader):\n",
    "      model.eval()\n",
    "      y_pred = torch.empty((0), dtype=torch.int)\n",
    "      y_true = torch.empty((0), dtype=torch.int)\n",
    "\n",
    "      for data in test_loader:\n",
    "            out = model(data.x, data.edge_index, data.edge_attr)\n",
    "            \n",
    "            y_pred = torch.cat((y_pred, out.argmax(dim=1)), axis=0) # use the class with highest probability\n",
    "            y_true = torch.cat((y_true, data.y), axis=0)\n",
    "\n",
    "      return y_pred, y_true\n",
    "\n",
    "y_pred, y_true = test(test_loader)\n",
    "# test_correct = (y_pred == y_true) # check against ground-truth labels\n",
    "# test_accuracy = np.sum(test_correct) / len(test_correct) # derive ratio of correct predictions\n",
    "# print(f'Accuracy:\\n{test_accuracy}')\n",
    "confusion = confusion_matrix(y_true, y_pred)\n",
    "print(f'Confusion Matrix:\\n{confusion}')\n"
   ]
  },
  {
   "cell_type": "code",
   "execution_count": 13,
   "id": "becf4344",
   "metadata": {},
   "outputs": [
    {
     "data": {
      "image/png": "[encoded data removed]",
      "text/plain": [
       "<Figure size 640x480 with 1 Axes>"
      ]
     },
     "metadata": {},
     "output_type": "display_data"
    }
   ],
   "source": [
    "plt.figure(0)\n",
    "plt.plot(range(epochs), list_epoch_loss)\n",
    "plt.show()"
   ]
  },
  {
   "cell_type": "code",
   "execution_count": null,
   "id": "b8c15139",
   "metadata": {},
   "outputs": [],
   "source": [
    "import pymol\n",
    "\n",
    "working_dir = os.getcwd()\n",
    "\n",
    "def visualize_prediction(y_pred, dataset):\n",
    "      idx = 0\n",
    "      for mask_type, num_nodes, protein_path, labels_path in zip(dataset.list_mask_type, dataset.list_num_nodes, dataset.list_protein_path, dataset.list_labels_path):\n",
    "            if mask_type == 2:\n",
    "\n",
    "                  b_factors_pred = list(y_pred[idx:idx+num_nodes])\n",
    "\n",
    "                  labels_pred_path = f\"{os.path.splitext(labels_path)[0]}_pred.npy\"\n",
    "                  np.save(os.path.join(working_dir, labels_pred_path), b_factors_pred)\n",
    "\n",
    "                  pymol.cmd.load(os.path.join(working_dir, protein_path))\n",
    "                  pymol.cmd.alter('all', \"b=-1.00\")\n",
    "                  for index, b in enumerate(b_factors_pred):\t\n",
    "                        pymol.cmd.alter(f'index {index+1}', f'b={float(b)}')\n",
    "\n",
    "                  protein_pred_path = f\"{os.path.splitext(protein_path)[0]}_pred.pdb\"\n",
    "                  pymol.cmd.save(os.path.join(working_dir, protein_pred_path), 'all')\n",
    "                  pymol.cmd.delete('all')\n",
    "\n",
    "                  print(labels_pred_path)\n",
    "                  print(protein_pred_path)\n",
    "                  \n",
    "            idx += num_nodes\n",
    "            \n",
    "# visualize predictions\n",
    "visualize_prediction(y_pred, dataset)\n"
   ]
  },
  {
   "cell_type": "code",
   "execution_count": 8,
   "id": "3f55e353",
   "metadata": {},
   "outputs": [
    {
     "name": "stdout",
     "output_type": "stream",
     "text": [
      "['data/processed/4D7D_A/4D7D_A_graph.pyg', 'data/processed/1FAV_C/1FAV_C_graph.pyg', 'data/processed/8A1P_B/8A1P_B_graph.pyg', 'data/processed/4R5M_A/4R5M_A_graph.pyg', 'data/processed/1QZ9_A/1QZ9_A_graph.pyg', 'data/processed/6A2W_A/6A2W_A_graph.pyg', 'data/processed/3U9S_I/3U9S_I_graph.pyg', 'data/processed/7B7R_A/7B7R_A_graph.pyg', 'data/processed/5H8Q_B/5H8Q_B_graph.pyg', 'data/processed/7XUJ_A/7XUJ_A_graph.pyg', 'data/processed/1R55_A/1R55_A_graph.pyg', 'data/processed/4NG3_A/4NG3_A_graph.pyg', 'data/processed/3NA0_A/3NA0_A_graph.pyg', 'data/processed/1ZKL_A/1ZKL_A_graph.pyg', 'data/processed/1FCA_A/1FCA_A_graph.pyg', 'data/processed/6GHM_A/6GHM_A_graph.pyg', 'data/processed/1YSG_A/1YSG_A_graph.pyg', 'data/processed/7XNL_A/7XNL_A_graph.pyg', 'data/processed/3BQZ_A/3BQZ_A_graph.pyg']\n"
     ]
    }
   ],
   "source": [
    "import csv\n",
    "import os\n",
    "\n",
    "graph_path_list = []\n",
    "with open(\"data/processed/data_paths.csv\") as f:\n",
    "    for row in f:\n",
    "        protein_id = row.split(',')[1]\n",
    "        graph_id = f\"{protein_id}_graph.pyg\"\n",
    "\n",
    "        if os.path.exists(f\"data/processed/{protein_id}/{graph_id}\"):\n",
    "            graph_path_list.append(f\"data/processed/{protein_id}/{graph_id}\")\n",
    "\n",
    "graph_path_list = graph_path_list[0:3]\n",
    "print(graph_path_list)"
   ]
  }
 ],
 "metadata": {
  "kernelspec": {
   "display_name": "Python 3",
   "language": "python",
   "name": "python3"
  },
  "language_info": {
   "codemirror_mode": {
    "name": "ipython",
    "version": 3
   },
   "file_extension": ".py",
   "mimetype": "text/x-python",
   "name": "python",
   "nbconvert_exporter": "python",
   "pygments_lexer": "ipython3",
   "version": "3.10.11"
  }
 },
 "nbformat": 4,
 "nbformat_minor": 5
}
